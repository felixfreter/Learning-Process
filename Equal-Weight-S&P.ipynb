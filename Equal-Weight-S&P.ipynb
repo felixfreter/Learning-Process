{
 "cells": [
  {
   "cell_type": "code",
   "execution_count": 27,
   "metadata": {},
   "outputs": [],
   "source": [
    "#Library imports\n",
    "import numpy as np\n",
    "import pandas as pd\n",
    "import requests\n",
    "import math\n",
    "import xlsxwriter"
   ]
  },
  {
   "cell_type": "code",
   "execution_count": 57,
   "metadata": {},
   "outputs": [],
   "source": [
    "#importing stock list\n",
    "stocks = pd.read_csv(r\"\\Users\\felix\\Documents\\Python Stuff\\Algorithmic Trading\\sp_500_stocks.csv\")\n",
    "IEX_CLOUD_API_TOKEN = 'Tpk_059b97af715d417d9f49f50b51b1c448'"
   ]
  },
  {
   "cell_type": "code",
   "execution_count": 29,
   "metadata": {},
   "outputs": [
    {
     "name": "stdout",
     "output_type": "stream",
     "text": [
      "{'symbol': 'AAPL', 'companyName': 'Apple Inc', 'primaryExchange': 'SA( GNACSESTMEG/K BLENA DTQ)RLLAO', 'calculationPrice': 'tops', 'open': None, 'openTime': None, 'openSource': 'liafocfi', 'close': None, 'closeTime': None, 'closeSource': 'liifaofc', 'high': None, 'highTime': None, 'highSource': None, 'low': None, 'lowTime': None, 'lowSource': None, 'latestPrice': 128.56, 'latestSource': 'IEX real time price', 'latestTime': '2:47:48 PM', 'latestUpdate': 1700938055711, 'latestVolume': None, 'iexRealtimePrice': 130.05, 'iexRealtimeSize': 313, 'iexLastUpdated': 1698061899650, 'delayedPrice': None, 'delayedPriceTime': None, 'oddLotDelayedPrice': None, 'oddLotDelayedPriceTime': None, 'extendedPrice': None, 'extendedChange': None, 'extendedChangePercent': None, 'extendedPriceTime': None, 'previousClose': 133.06, 'previousVolume': 80600384, 'change': -1.51, 'changePercent': -0.01213, 'volume': None, 'iexMarketPercent': 0.013637024928518152, 'iexVolume': 798835, 'avgTotalVolume': 95606672, 'iexBidPrice': 129.7, 'iexBidSize': 509, 'iexAskPrice': 131.13, 'iexAskSize': 405, 'iexOpen': 129.95, 'iexOpenTime': 1670443537551, 'iexClose': 130.02, 'iexCloseTime': 1633862103097, 'marketCap': 2149408183128, 'peRatio': 29.74, 'week52High': 151.03, 'week52Low': 79.41, 'ytdChange': -0.05129177532093745, 'lastTradeTime': 1672069982246, 'isUSMarketOpen': True}\n"
     ]
    }
   ],
   "source": [
    "#API Call tryout\n",
    "symbol = \"AAPL\"\n",
    "api_url = f\"https://sandbox.iexapis.com/stable/stock/{symbol}/quote/?token={IEX_CLOUD_API_TOKEN}\"\n",
    "data = requests.get(api_url).json()\n",
    "print(data)"
   ]
  },
  {
   "cell_type": "code",
   "execution_count": 30,
   "metadata": {},
   "outputs": [],
   "source": [
    "#parsing\n",
    "price = data[\"latestPrice\"]\n",
    "marketCap = data[\"marketCap\"]"
   ]
  },
  {
   "cell_type": "code",
   "execution_count": 32,
   "metadata": {},
   "outputs": [],
   "source": [
    "#adding stocks data to a pandas\n",
    "my_columns = [\"Ticker\", \"Stock Price\", \"Market Capitalization\", \"Number of Shares to Buy\"]\n",
    "final_Dataframe = pd.DataFrame(columns = my_columns)"
   ]
  },
  {
   "cell_type": "code",
   "execution_count": 13,
   "metadata": {},
   "outputs": [
    {
     "data": {
      "text/html": [
       "<div>\n",
       "<style scoped>\n",
       "    .dataframe tbody tr th:only-of-type {\n",
       "        vertical-align: middle;\n",
       "    }\n",
       "\n",
       "    .dataframe tbody tr th {\n",
       "        vertical-align: top;\n",
       "    }\n",
       "\n",
       "    .dataframe thead th {\n",
       "        text-align: right;\n",
       "    }\n",
       "</style>\n",
       "<table border=\"1\" class=\"dataframe\">\n",
       "  <thead>\n",
       "    <tr style=\"text-align: right;\">\n",
       "      <th></th>\n",
       "      <th>Ticker</th>\n",
       "      <th>Stock Price</th>\n",
       "      <th>Market Capitalization</th>\n",
       "      <th>Number of Shares to Buy</th>\n",
       "    </tr>\n",
       "  </thead>\n",
       "  <tbody>\n",
       "    <tr>\n",
       "      <th>0</th>\n",
       "      <td>AAPL</td>\n",
       "      <td>130.02</td>\n",
       "      <td>2196176209066</td>\n",
       "      <td>N/A</td>\n",
       "    </tr>\n",
       "  </tbody>\n",
       "</table>\n",
       "</div>"
      ],
      "text/plain": [
       "  Ticker  Stock Price Market Capitalization Number of Shares to Buy\n",
       "0   AAPL       130.02         2196176209066                     N/A"
      ]
     },
     "execution_count": 13,
     "metadata": {},
     "output_type": "execute_result"
    }
   ],
   "source": [
    "#more adding\n",
    "final_Dataframe.append(\n",
    "    pd.Series(\n",
    "        [\n",
    "            symbol,\n",
    "            price,\n",
    "            marketCap,\n",
    "            \"N/A\"            \n",
    "        ],\n",
    "          index = my_columns\n",
    "            ),\n",
    "  \n",
    "    ignore_index=True    \n",
    "\n",
    ")"
   ]
  },
  {
   "cell_type": "code",
   "execution_count": 19,
   "metadata": {},
   "outputs": [],
   "source": [
    "#Looping but very slow because of API request\n",
    "final_dataframe = pd.DataFrame(columns = my_columns)\n",
    "for stock in stocks[\"Ticker\"]:\n",
    "    api_url = f\"https://sandbox.iexapis.com/stable/stock/{stock}/quote/?token={IEX_CLOUD_API_TOKEN}\"\n",
    "    data = requests.get(api_url).json()\n",
    "    final_dataframe = final_dataframe.append(\n",
    "    \n",
    "    pd.Series(\n",
    "    [\n",
    "        stock,\n",
    "        data[\"latestPrice\"],\n",
    "        data[\"marketCap\"],\n",
    "        \"N/A\",\n",
    "    ],\n",
    "        index = my_columns,\n",
    "        \n",
    "    ),\n",
    "        \n",
    "     ignore_index=True   \n",
    "    )"
   ]
  },
  {
   "cell_type": "code",
   "execution_count": 44,
   "metadata": {},
   "outputs": [],
   "source": [
    "#chopping data into chunks in order to do a Batch API call\n",
    "def chunks(lst, n):\n",
    "    \"\"\"Yield successive n-sized chunks from lst.\"\"\"\n",
    "    for i in range(0, len(lst), n):\n",
    "        yield lst[i:i + n]       "
   ]
  },
  {
   "cell_type": "code",
   "execution_count": 70,
   "metadata": {},
   "outputs": [
    {
     "data": {
      "text/html": [
       "<div>\n",
       "<style scoped>\n",
       "    .dataframe tbody tr th:only-of-type {\n",
       "        vertical-align: middle;\n",
       "    }\n",
       "\n",
       "    .dataframe tbody tr th {\n",
       "        vertical-align: top;\n",
       "    }\n",
       "\n",
       "    .dataframe thead th {\n",
       "        text-align: right;\n",
       "    }\n",
       "</style>\n",
       "<table border=\"1\" class=\"dataframe\">\n",
       "  <thead>\n",
       "    <tr style=\"text-align: right;\">\n",
       "      <th></th>\n",
       "      <th>Ticker</th>\n",
       "      <th>Stock Price</th>\n",
       "      <th>Market Capitalization</th>\n",
       "      <th>Number of Shares to Buy</th>\n",
       "    </tr>\n",
       "  </thead>\n",
       "  <tbody>\n",
       "    <tr>\n",
       "      <th>0</th>\n",
       "      <td>A</td>\n",
       "      <td>135.90</td>\n",
       "      <td>40600506136</td>\n",
       "      <td>N/A</td>\n",
       "    </tr>\n",
       "    <tr>\n",
       "      <th>1</th>\n",
       "      <td>AAL</td>\n",
       "      <td>23.37</td>\n",
       "      <td>15176943576</td>\n",
       "      <td>N/A</td>\n",
       "    </tr>\n",
       "    <tr>\n",
       "      <th>2</th>\n",
       "      <td>AAP</td>\n",
       "      <td>201.54</td>\n",
       "      <td>13236861181</td>\n",
       "      <td>N/A</td>\n",
       "    </tr>\n",
       "    <tr>\n",
       "      <th>3</th>\n",
       "      <td>AAPL</td>\n",
       "      <td>127.59</td>\n",
       "      <td>2191703740578</td>\n",
       "      <td>N/A</td>\n",
       "    </tr>\n",
       "    <tr>\n",
       "      <th>4</th>\n",
       "      <td>ABBV</td>\n",
       "      <td>119.87</td>\n",
       "      <td>206050956510</td>\n",
       "      <td>N/A</td>\n",
       "    </tr>\n",
       "    <tr>\n",
       "      <th>...</th>\n",
       "      <td>...</td>\n",
       "      <td>...</td>\n",
       "      <td>...</td>\n",
       "      <td>...</td>\n",
       "    </tr>\n",
       "    <tr>\n",
       "      <th>500</th>\n",
       "      <td>YUM</td>\n",
       "      <td>121.66</td>\n",
       "      <td>36210475517</td>\n",
       "      <td>N/A</td>\n",
       "    </tr>\n",
       "    <tr>\n",
       "      <th>501</th>\n",
       "      <td>ZBH</td>\n",
       "      <td>172.11</td>\n",
       "      <td>35919107107</td>\n",
       "      <td>N/A</td>\n",
       "    </tr>\n",
       "    <tr>\n",
       "      <th>502</th>\n",
       "      <td>ZBRA</td>\n",
       "      <td>502.22</td>\n",
       "      <td>26683497902</td>\n",
       "      <td>N/A</td>\n",
       "    </tr>\n",
       "    <tr>\n",
       "      <th>503</th>\n",
       "      <td>ZION</td>\n",
       "      <td>58.68</td>\n",
       "      <td>9602948966</td>\n",
       "      <td>N/A</td>\n",
       "    </tr>\n",
       "    <tr>\n",
       "      <th>504</th>\n",
       "      <td>ZTS</td>\n",
       "      <td>176.58</td>\n",
       "      <td>87690058802</td>\n",
       "      <td>N/A</td>\n",
       "    </tr>\n",
       "  </tbody>\n",
       "</table>\n",
       "<p>505 rows × 4 columns</p>\n",
       "</div>"
      ],
      "text/plain": [
       "    Ticker  Stock Price Market Capitalization Number of Shares to Buy\n",
       "0        A       135.90           40600506136                     N/A\n",
       "1      AAL        23.37           15176943576                     N/A\n",
       "2      AAP       201.54           13236861181                     N/A\n",
       "3     AAPL       127.59         2191703740578                     N/A\n",
       "4     ABBV       119.87          206050956510                     N/A\n",
       "..     ...          ...                   ...                     ...\n",
       "500    YUM       121.66           36210475517                     N/A\n",
       "501    ZBH       172.11           35919107107                     N/A\n",
       "502   ZBRA       502.22           26683497902                     N/A\n",
       "503   ZION        58.68            9602948966                     N/A\n",
       "504    ZTS       176.58           87690058802                     N/A\n",
       "\n",
       "[505 rows x 4 columns]"
      ]
     },
     "execution_count": 70,
     "metadata": {},
     "output_type": "execute_result"
    }
   ],
   "source": [
    "#More Looping\n",
    "symbol_groups = list(chunks(stocks['Ticker'], 100))\n",
    "symbol_strings = []\n",
    "for i in range(0, len(symbol_groups)):\n",
    "    symbol_strings.append(','.join(symbol_groups[i]))\n",
    "#     print(symbol_strings[i])\n",
    "\n",
    "final_dataframe = pd.DataFrame(columns = my_columns)\n",
    "\n",
    "for symbol_string in symbol_strings:\n",
    "#     print(symbol_strings)\n",
    "    batch_api_call_url = f'https://sandbox.iexapis.com/stable/stock/market/batch/?types=quote&symbols={symbol_string}&token={IEX_CLOUD_API_TOKEN}'\n",
    "    data = requests.get(batch_api_call_url).json()\n",
    "    for symbol in symbol_string.split(','):\n",
    "        final_dataframe = final_dataframe.append(\n",
    "                                        pd.Series([symbol, \n",
    "                                                   data[symbol]['quote']['latestPrice'], \n",
    "                                                   data[symbol]['quote']['marketCap'], \n",
    "                                                   'N/A'], \n",
    "                                                  index = my_columns), \n",
    "                                        ignore_index = True)\n",
    "final_dataframe"
   ]
  },
  {
   "cell_type": "code",
   "execution_count": 81,
   "metadata": {},
   "outputs": [
    {
     "name": "stdin",
     "output_type": "stream",
     "text": [
      "Enter the value of your portfolio: 1000000\n"
     ]
    }
   ],
   "source": [
    "portfolio_size = input(\"Enter the value of your portfolio:\")\n",
    "\n",
    "try:\n",
    "    val = float(portfolio_size)\n",
    "except ValueError:\n",
    "    print(\"That's not a number! \\n Try again:\")\n",
    "    portfolio_size = input(\"Enter the value of your portfolio:\")"
   ]
  },
  {
   "cell_type": "code",
   "execution_count": 84,
   "metadata": {},
   "outputs": [
    {
     "data": {
      "text/html": [
       "<div>\n",
       "<style scoped>\n",
       "    .dataframe tbody tr th:only-of-type {\n",
       "        vertical-align: middle;\n",
       "    }\n",
       "\n",
       "    .dataframe tbody tr th {\n",
       "        vertical-align: top;\n",
       "    }\n",
       "\n",
       "    .dataframe thead th {\n",
       "        text-align: right;\n",
       "    }\n",
       "</style>\n",
       "<table border=\"1\" class=\"dataframe\">\n",
       "  <thead>\n",
       "    <tr style=\"text-align: right;\">\n",
       "      <th></th>\n",
       "      <th>Ticker</th>\n",
       "      <th>Stock Price</th>\n",
       "      <th>Market Capitalization</th>\n",
       "      <th>Number of Shares to Buy</th>\n",
       "      <th>Number Of Shares to Buy</th>\n",
       "    </tr>\n",
       "  </thead>\n",
       "  <tbody>\n",
       "    <tr>\n",
       "      <th>0</th>\n",
       "      <td>A</td>\n",
       "      <td>135.90</td>\n",
       "      <td>40600506136</td>\n",
       "      <td>N/A</td>\n",
       "      <td>14.0</td>\n",
       "    </tr>\n",
       "    <tr>\n",
       "      <th>1</th>\n",
       "      <td>AAL</td>\n",
       "      <td>23.37</td>\n",
       "      <td>15176943576</td>\n",
       "      <td>N/A</td>\n",
       "      <td>84.0</td>\n",
       "    </tr>\n",
       "    <tr>\n",
       "      <th>2</th>\n",
       "      <td>AAP</td>\n",
       "      <td>201.54</td>\n",
       "      <td>13236861181</td>\n",
       "      <td>N/A</td>\n",
       "      <td>9.0</td>\n",
       "    </tr>\n",
       "    <tr>\n",
       "      <th>3</th>\n",
       "      <td>AAPL</td>\n",
       "      <td>127.59</td>\n",
       "      <td>2191703740578</td>\n",
       "      <td>N/A</td>\n",
       "      <td>15.0</td>\n",
       "    </tr>\n",
       "    <tr>\n",
       "      <th>4</th>\n",
       "      <td>ABBV</td>\n",
       "      <td>119.87</td>\n",
       "      <td>206050956510</td>\n",
       "      <td>N/A</td>\n",
       "      <td>16.0</td>\n",
       "    </tr>\n",
       "    <tr>\n",
       "      <th>...</th>\n",
       "      <td>...</td>\n",
       "      <td>...</td>\n",
       "      <td>...</td>\n",
       "      <td>...</td>\n",
       "      <td>...</td>\n",
       "    </tr>\n",
       "    <tr>\n",
       "      <th>500</th>\n",
       "      <td>YUM</td>\n",
       "      <td>121.66</td>\n",
       "      <td>36210475517</td>\n",
       "      <td>N/A</td>\n",
       "      <td>16.0</td>\n",
       "    </tr>\n",
       "    <tr>\n",
       "      <th>501</th>\n",
       "      <td>ZBH</td>\n",
       "      <td>172.11</td>\n",
       "      <td>35919107107</td>\n",
       "      <td>N/A</td>\n",
       "      <td>11.0</td>\n",
       "    </tr>\n",
       "    <tr>\n",
       "      <th>502</th>\n",
       "      <td>ZBRA</td>\n",
       "      <td>502.22</td>\n",
       "      <td>26683497902</td>\n",
       "      <td>N/A</td>\n",
       "      <td>3.0</td>\n",
       "    </tr>\n",
       "    <tr>\n",
       "      <th>503</th>\n",
       "      <td>ZION</td>\n",
       "      <td>58.68</td>\n",
       "      <td>9602948966</td>\n",
       "      <td>N/A</td>\n",
       "      <td>33.0</td>\n",
       "    </tr>\n",
       "    <tr>\n",
       "      <th>504</th>\n",
       "      <td>ZTS</td>\n",
       "      <td>176.58</td>\n",
       "      <td>87690058802</td>\n",
       "      <td>N/A</td>\n",
       "      <td>NaN</td>\n",
       "    </tr>\n",
       "  </tbody>\n",
       "</table>\n",
       "<p>505 rows × 5 columns</p>\n",
       "</div>"
      ],
      "text/plain": [
       "    Ticker  Stock Price Market Capitalization Number of Shares to Buy  \\\n",
       "0        A       135.90           40600506136                     N/A   \n",
       "1      AAL        23.37           15176943576                     N/A   \n",
       "2      AAP       201.54           13236861181                     N/A   \n",
       "3     AAPL       127.59         2191703740578                     N/A   \n",
       "4     ABBV       119.87          206050956510                     N/A   \n",
       "..     ...          ...                   ...                     ...   \n",
       "500    YUM       121.66           36210475517                     N/A   \n",
       "501    ZBH       172.11           35919107107                     N/A   \n",
       "502   ZBRA       502.22           26683497902                     N/A   \n",
       "503   ZION        58.68            9602948966                     N/A   \n",
       "504    ZTS       176.58           87690058802                     N/A   \n",
       "\n",
       "     Number Of Shares to Buy  \n",
       "0                       14.0  \n",
       "1                       84.0  \n",
       "2                        9.0  \n",
       "3                       15.0  \n",
       "4                       16.0  \n",
       "..                       ...  \n",
       "500                     16.0  \n",
       "501                     11.0  \n",
       "502                      3.0  \n",
       "503                     33.0  \n",
       "504                      NaN  \n",
       "\n",
       "[505 rows x 5 columns]"
      ]
     },
     "execution_count": 84,
     "metadata": {},
     "output_type": "execute_result"
    }
   ],
   "source": [
    "#Number of shares to buy calculation\n",
    "position_size = float(portfolio_size) / len(final_dataframe.index)\n",
    "for i in range(0, len(final_dataframe['Ticker'])-1):\n",
    "    final_dataframe.loc[i, 'Number Of Shares to Buy'] = math.floor(position_size / final_dataframe['Stock Price'][i])\n",
    "final_dataframe"
   ]
  },
  {
   "cell_type": "code",
   "execution_count": 87,
   "metadata": {},
   "outputs": [],
   "source": [
    "#Initializing XLSXWriter\n",
    "writer = pd.ExcelWriter(\"recommended_trades.xlsx\", engine=\"xlsxwriter\")\n",
    "final_dataframe.to_excel(writer, sheet_name=\"Recommended Trades\", index=False)\n"
   ]
  },
  {
   "cell_type": "code",
   "execution_count": 93,
   "metadata": {},
   "outputs": [],
   "source": [
    "background_color = '#00a0a23'\n",
    "font_color = '#fffff'\n",
    "\n",
    "string_format = writer.book.add_format(\n",
    "        {\n",
    "            'font_color': font_color,\n",
    "            'bg_color':background_color,\n",
    "            'border': 1\n",
    "        }\n",
    "    )\n",
    "\n",
    "dollar_format = writer.book.add_format(\n",
    "        {\n",
    "           'num_format': '$0.00',\n",
    "            'font_color': font_color,\n",
    "            'bg_color': background_color,\n",
    "            'border': 1\n",
    "        }\n",
    "    )\n",
    "integer_format = writer.book.add_format(\n",
    "        {\n",
    "            'num_format': '0',\n",
    "            'font_color': font_color,\n",
    "            'bg_color': background_color,\n",
    "            'border': 1\n",
    "        }\n",
    "    )"
   ]
  },
  {
   "cell_type": "code",
   "execution_count": 97,
   "metadata": {},
   "outputs": [
    {
     "data": {
      "text/plain": [
       "0"
      ]
     },
     "execution_count": 97,
     "metadata": {},
     "output_type": "execute_result"
    }
   ],
   "source": [
    "writer.sheets['Recommended Trades'].set_column('B:B',\n",
    "                                              18,\n",
    "                                               string_format                                          \n",
    "                                              )"
   ]
  },
  {
   "cell_type": "code",
   "execution_count": 122,
   "metadata": {},
   "outputs": [
    {
     "data": {
      "text/plain": [
       "0"
      ]
     },
     "execution_count": 122,
     "metadata": {},
     "output_type": "execute_result"
    }
   ],
   "source": [
    "column_formats = {\n",
    "                    'A': ['Ticker', string_format],\n",
    "                    'B': ['Price', dollar_format],\n",
    "                    'C': ['Market Capitalization', dollar_format],\n",
    "                    'D': ['Number of Shares to Buy', integer_format]\n",
    "                    }\n",
    "for column in column_formats.keys():\n",
    "    writer.sheets['Recommended Trades'].set_column(f'{column}:{column}', 20,column_formats[column][1])\n",
    "writer.sheets['Recommended Trades'].write(f'{column}1', column_formats[column][0], string_format)\n"
   ]
  },
  {
   "cell_type": "code",
   "execution_count": 123,
   "metadata": {},
   "outputs": [],
   "source": [
    "writer.save()"
   ]
  }
 ],
 "metadata": {
  "kernelspec": {
   "display_name": "Python 3",
   "language": "python",
   "name": "python3"
  },
  "language_info": {
   "codemirror_mode": {
    "name": "ipython",
    "version": 3
   },
   "file_extension": ".py",
   "mimetype": "text/x-python",
   "name": "python",
   "nbconvert_exporter": "python",
   "pygments_lexer": "ipython3",
   "version": "3.8.5"
  }
 },
 "nbformat": 4,
 "nbformat_minor": 4
}
